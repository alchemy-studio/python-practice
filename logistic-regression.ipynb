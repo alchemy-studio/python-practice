{
 "cells": [
  {
   "cell_type": "code",
   "execution_count": 1,
   "metadata": {},
   "outputs": [],
   "source": [
    "from sklearn.datasets import load_iris"
   ]
  },
  {
   "cell_type": "code",
   "execution_count": 2,
   "metadata": {},
   "outputs": [],
   "source": [
    "iris = load_iris()"
   ]
  },
  {
   "cell_type": "code",
   "execution_count": 3,
   "metadata": {},
   "outputs": [],
   "source": [
    "from sklearn import linear_model"
   ]
  },
  {
   "cell_type": "code",
   "execution_count": 4,
   "metadata": {},
   "outputs": [],
   "source": [
    "classifier = linear_model.LogisticRegression(C=1, random_state=111)"
   ]
  },
  {
   "cell_type": "code",
   "execution_count": 5,
   "metadata": {},
   "outputs": [
    {
     "name": "stderr",
     "output_type": "stream",
     "text": [
      "/anaconda3/lib/python3.7/site-packages/sklearn/cross_validation.py:41: DeprecationWarning: This module was deprecated in version 0.18 in favor of the model_selection module into which all the refactored classes and functions are moved. Also note that the interface of the new CV iterators are different from that of this module. This module will be removed in 0.20.\n",
      "  \"This module will be removed in 0.20.\", DeprecationWarning)\n"
     ]
    }
   ],
   "source": [
    "from sklearn import cross_validation"
   ]
  },
  {
   "cell_type": "code",
   "execution_count": 6,
   "metadata": {},
   "outputs": [],
   "source": [
    "X_train, X_test, y_train, y_test = cross_validation.train_test_split(iris.data, iris.target, test_size=0.10, random_state=111)"
   ]
  },
  {
   "cell_type": "code",
   "execution_count": 8,
   "metadata": {},
   "outputs": [
    {
     "data": {
      "text/plain": [
       "LogisticRegression(C=1, class_weight=None, dual=False, fit_intercept=True,\n",
       "          intercept_scaling=1, max_iter=100, multi_class='ovr', n_jobs=1,\n",
       "          penalty='l2', random_state=111, solver='liblinear', tol=0.0001,\n",
       "          verbose=0, warm_start=False)"
      ]
     },
     "execution_count": 8,
     "metadata": {},
     "output_type": "execute_result"
    }
   ],
   "source": [
    "classifier.fit(X_train, y_train)"
   ]
  },
  {
   "cell_type": "code",
   "execution_count": 9,
   "metadata": {},
   "outputs": [],
   "source": [
    "from sklearn.decomposition import PCA"
   ]
  },
  {
   "cell_type": "code",
   "execution_count": 10,
   "metadata": {},
   "outputs": [],
   "source": [
    "pca = PCA(n_components=2).fit(X_train)"
   ]
  },
  {
   "cell_type": "code",
   "execution_count": 11,
   "metadata": {},
   "outputs": [
    {
     "data": {
      "text/plain": [
       "PCA(copy=True, iterated_power='auto', n_components=2, random_state=None,\n",
       "  svd_solver='auto', tol=0.0, whiten=False)"
      ]
     },
     "execution_count": 11,
     "metadata": {},
     "output_type": "execute_result"
    }
   ],
   "source": [
    "pca"
   ]
  },
  {
   "cell_type": "code",
   "execution_count": 12,
   "metadata": {},
   "outputs": [],
   "source": [
    "pca_2d = pca.transform(X_train)"
   ]
  },
  {
   "cell_type": "code",
   "execution_count": 13,
   "metadata": {},
   "outputs": [
    {
     "data": {
      "text/plain": [
       "array([[-2.33749353,  1.34044308],\n",
       "       [ 1.32572808, -0.12703615],\n",
       "       [-0.671328  , -0.97703629],\n",
       "       [-2.80158794,  0.0746434 ],\n",
       "       [ 2.37638568,  0.24496787],\n",
       "       [ 0.98966983, -0.13123288],\n",
       "       [ 1.96961945,  0.10624427],\n",
       "       [ 0.71223591, -0.37479425],\n",
       "       [ 0.20573119, -0.2717781 ],\n",
       "       [ 1.42055093, -0.72714298],\n",
       "       [-2.23868534,  0.10728786],\n",
       "       [-2.43916879, -0.1352062 ],\n",
       "       [ 1.18209682, -0.04206315],\n",
       "       [-2.82174128, -0.14376389],\n",
       "       [ 2.20679276,  0.19098661],\n",
       "       [-3.15239044,  0.12558693],\n",
       "       [ 0.3999261 , -0.17382003],\n",
       "       [-2.77118664, -0.2276443 ],\n",
       "       [-2.56841111,  0.81343265],\n",
       "       [ 0.98748943,  0.5217879 ],\n",
       "       [ 2.00634423,  0.24748661],\n",
       "       [ 2.677522  ,  0.41570466],\n",
       "       [ 0.3059499 , -0.28952884],\n",
       "       [-2.81371763, -0.57724363],\n",
       "       [ 0.25894644, -0.78469028],\n",
       "       [-0.42658746, -1.22977011],\n",
       "       [ 1.10693808,  0.28565047],\n",
       "       [ 0.86934173,  0.23391612],\n",
       "       [-0.23546352, -0.32878117],\n",
       "       [ 2.67260214,  0.63295761],\n",
       "       [ 0.53860469, -0.62834415],\n",
       "       [ 1.52353981,  0.5654882 ],\n",
       "       [-2.24941353,  0.40399383],\n",
       "       [-2.47895341,  0.50558381],\n",
       "       [ 0.4451177 , -0.25325247],\n",
       "       [-0.83193896, -0.72870926],\n",
       "       [-0.11556959, -0.63992365],\n",
       "       [ 1.45053976, -0.36762156],\n",
       "       [-2.1451216 ,  0.88480579],\n",
       "       [ 1.05187605, -0.0750253 ],\n",
       "       [-2.77211904, -0.93124976],\n",
       "       [-2.51926909, -0.19804224],\n",
       "       [ 0.60077809, -1.15894064],\n",
       "       [-2.605623  , -0.1064202 ],\n",
       "       [-2.48476174,  0.58503684],\n",
       "       [ 1.23623546, -0.11818137],\n",
       "       [ 0.24016179, -0.64130864],\n",
       "       [ 0.5780319 , -0.06251802],\n",
       "       [ 1.45860735, -0.23529576],\n",
       "       [-2.22477661,  0.7469647 ],\n",
       "       [ 0.99374305,  0.36732982],\n",
       "       [ 3.53757558,  1.25213431],\n",
       "       [ 2.44797099,  0.53829317],\n",
       "       [-2.50133107,  0.37439176],\n",
       "       [ 1.96382225,  0.16469877],\n",
       "       [-2.14962899,  0.44024961],\n",
       "       [ 1.3946549 ,  0.30751091],\n",
       "       [ 1.87117078, -0.15502666],\n",
       "       [ 0.00613831, -0.66428225],\n",
       "       [ 2.48781067,  0.44231018],\n",
       "       [ 2.62427394,  0.34181278],\n",
       "       [ 0.96152777,  0.38283364],\n",
       "       [ 0.33771087, -0.49683909],\n",
       "       [ 2.19110287, -0.14867004],\n",
       "       [ 0.42410872, -0.02265559],\n",
       "       [ 2.41528873,  0.02099945],\n",
       "       [-2.34293333,  0.19228144],\n",
       "       [ 3.13306171,  0.77056804],\n",
       "       [ 1.48722961, -0.52537327],\n",
       "       [-2.5934843 ,  0.81227831],\n",
       "       [-2.54692402,  1.09463479],\n",
       "       [ 0.88541282, -0.31305078],\n",
       "       [ 0.1180086 , -0.54194499],\n",
       "       [ 1.85323065, -0.43965065],\n",
       "       [ 2.59561886,  0.04508622],\n",
       "       [-2.67588569, -0.31595211],\n",
       "       [ 1.51141012, -0.08639882],\n",
       "       [ 1.27111134, -0.56271696],\n",
       "       [-2.64634003, -0.16923565],\n",
       "       [-0.10568803, -0.22081397],\n",
       "       [ 0.9565751 ,  0.01328251],\n",
       "       [ 1.36776985, -0.26823731],\n",
       "       [-0.62658169, -0.98146368],\n",
       "       [ 1.65683365, -0.49239054],\n",
       "       [ 2.01436576,  0.10181688],\n",
       "       [-2.64589474, -0.2442407 ],\n",
       "       [ 0.42854837, -0.46389754],\n",
       "       [-2.75417201, -0.09200428],\n",
       "       [ 0.30103214, -0.36008591],\n",
       "       [ 2.22690215, -0.15641165],\n",
       "       [ 1.72354516,  0.29618324],\n",
       "       [ 1.96740624,  0.17246098],\n",
       "       [ 3.55990029,  0.55070933],\n",
       "       [-2.63916302,  0.11310024],\n",
       "       [-2.54744607,  0.01703023],\n",
       "       [ 1.35749807, -0.06753492],\n",
       "       [ 0.77850423,  0.20097457],\n",
       "       [-2.58679441,  0.3160037 ],\n",
       "       [-2.66734   ,  0.32817271],\n",
       "       [ 1.48722961, -0.52537327],\n",
       "       [ 2.90258731,  0.45636258],\n",
       "       [ 0.06520582, -0.69084192],\n",
       "       [-2.90901858, -0.48893582],\n",
       "       [ 0.70779626,  0.0664477 ],\n",
       "       [ 1.59687557, -0.31582077],\n",
       "       [-2.92780323, -0.34555418],\n",
       "       [-2.605623  , -0.1064202 ],\n",
       "       [ 2.03895874, -0.12101779],\n",
       "       [-2.5640154 , -0.19361485],\n",
       "       [ 0.3686014 , -0.3083263 ],\n",
       "       [ 1.01695834, -0.48410526],\n",
       "       [ 1.82823843,  0.13618461],\n",
       "       [ 2.99385898,  0.43529761],\n",
       "       [ 1.34188494,  0.74541805],\n",
       "       [-3.15198909, -0.51522366],\n",
       "       [ 0.31446277, -0.23220809],\n",
       "       [-2.34963223,  0.42174457],\n",
       "       [ 0.88050408, -0.11679637],\n",
       "       [ 1.98175125,  0.47032128],\n",
       "       [-2.605623  , -0.1064202 ],\n",
       "       [ 1.15257496,  0.13121298],\n",
       "       [-2.48387116,  0.43502674],\n",
       "       [-2.59389467,  1.18627742],\n",
       "       [-2.57784737,  0.31931793],\n",
       "       [ 2.22782554,  0.28038232],\n",
       "       [-2.44940775,  0.65230027],\n",
       "       [-2.71749329, -0.22875747],\n",
       "       [-2.56264672,  0.16817408],\n",
       "       [-2.70805702,  0.26535726],\n",
       "       [ 3.85790002,  0.35086886],\n",
       "       [ 0.72969582, -0.31415927],\n",
       "       [-2.52906276,  0.51445918],\n",
       "       [ 1.28101458,  0.46419532],\n",
       "       [ 2.38976124, -0.17196133],\n",
       "       [ 0.65898784, -0.44868614]])"
      ]
     },
     "execution_count": 13,
     "metadata": {},
     "output_type": "execute_result"
    }
   ],
   "source": [
    "pca_2d"
   ]
  },
  {
   "cell_type": "code",
   "execution_count": 14,
   "metadata": {},
   "outputs": [
    {
     "name": "stderr",
     "output_type": "stream",
     "text": [
      "/anaconda3/lib/python3.7/site-packages/matplotlib/font_manager.py:281: UserWarning: Matplotlib is building the font cache using fc-list. This may take a moment.\n",
      "  'Matplotlib is building the font cache using fc-list. '\n"
     ]
    }
   ],
   "source": [
    "import pylab as pl"
   ]
  },
  {
   "cell_type": "code",
   "execution_count": 18,
   "metadata": {},
   "outputs": [
    {
     "data": {
      "image/png": "[encoded data removed]",
      "text/plain": [
       "<Figure size 432x288 with 1 Axes>"
      ]
     },
     "metadata": {
      "needs_background": "light"
     },
     "output_type": "display_data"
    }
   ],
   "source": [
    "for i in range(0, pca_2d.shape[0]):\n",
    "    if y_train[i] == 0:\n",
    "        c1 = pl.scatter(pca_2d[i, 0], pca_2d[i, 1], c = 'r', marker = '+')\n",
    "    elif y_train[i] == 1:\n",
    "        c2 = pl.scatter(pca_2d[i, 0], pca_2d[i, 1], c = 'g', marker = 'o')\n",
    "    elif y_train[i] == 2:\n",
    "        c3 = pl.scatter(pca_2d[i, 0], pca_2d[i, 1], c = 'b', marker = '*')"
   ]
  },
  {
   "cell_type": "code",
   "execution_count": null,
   "metadata": {},
   "outputs": [],
   "source": []
  }
 ],
 "metadata": {
  "kernelspec": {
   "display_name": "Python 3",
   "language": "python",
   "name": "python3"
  },
  "language_info": {
   "codemirror_mode": {
    "name": "ipython",
    "version": 3
   },
   "file_extension": ".py",
   "mimetype": "text/x-python",
   "name": "python",
   "nbconvert_exporter": "python",
   "pygments_lexer": "ipython3",
   "version": "3.7.0"
  }
 },
 "nbformat": 4,
 "nbformat_minor": 2
}
